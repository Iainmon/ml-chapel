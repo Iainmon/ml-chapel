{
 "cells": [
  {
   "cell_type": "code",
   "execution_count": 2,
   "metadata": {},
   "outputs": [],
   "source": [
    "import numpy as np "
   ]
  },
  {
   "cell_type": "code",
   "execution_count": 7,
   "metadata": {},
   "outputs": [
    {
     "data": {
      "text/plain": [
       "array([1, 2, 3])"
      ]
     },
     "execution_count": 7,
     "metadata": {},
     "output_type": "execute_result"
    }
   ],
   "source": [
    "a = np.array([1,2,3])\n",
    "a"
   ]
  },
  {
   "cell_type": "code",
   "execution_count": 8,
   "metadata": {},
   "outputs": [
    {
     "data": {
      "text/plain": [
       "(3,)"
      ]
     },
     "execution_count": 8,
     "metadata": {},
     "output_type": "execute_result"
    }
   ],
   "source": [
    "a.shape"
   ]
  },
  {
   "cell_type": "code",
   "execution_count": 13,
   "metadata": {},
   "outputs": [
    {
     "data": {
      "text/plain": [
       "array([[0., 0., 0.],\n",
       "       [0., 0., 0.]])"
      ]
     },
     "execution_count": 13,
     "metadata": {},
     "output_type": "execute_result"
    }
   ],
   "source": [
    "b = np.zeros((2,3))\n",
    "b"
   ]
  },
  {
   "cell_type": "code",
   "execution_count": 17,
   "metadata": {},
   "outputs": [
    {
     "data": {
      "text/plain": [
       "matrix([[1, 2, 3]])"
      ]
     },
     "execution_count": 17,
     "metadata": {},
     "output_type": "execute_result"
    }
   ],
   "source": [
    "c = np.matrix(a)\n",
    "c"
   ]
  },
  {
   "cell_type": "code",
   "execution_count": 18,
   "metadata": {},
   "outputs": [
    {
     "data": {
      "text/plain": [
       "(2, 3)"
      ]
     },
     "execution_count": 18,
     "metadata": {},
     "output_type": "execute_result"
    }
   ],
   "source": [
    "b.shape"
   ]
  },
  {
   "cell_type": "code",
   "execution_count": 21,
   "metadata": {},
   "outputs": [
    {
     "ename": "IndexError",
     "evalue": "index 2 is out of bounds for axis 0 with size 2",
     "output_type": "error",
     "traceback": [
      "\u001b[0;31m---------------------------------------------------------------------------\u001b[0m",
      "\u001b[0;31mIndexError\u001b[0m                                Traceback (most recent call last)",
      "Cell \u001b[0;32mIn[21], line 1\u001b[0m\n\u001b[0;32m----> 1\u001b[0m b[\u001b[39m2\u001b[39;49m]\n",
      "\u001b[0;31mIndexError\u001b[0m: index 2 is out of bounds for axis 0 with size 2"
     ]
    }
   ],
   "source": [
    "b]"
   ]
  },
  {
   "cell_type": "code",
   "execution_count": 23,
   "metadata": {},
   "outputs": [
    {
     "name": "stdout",
     "output_type": "stream",
     "text": [
      "0 (5000, 5000)\n",
      "1 (5000, 5000)\n",
      "2 (5000, 5000)\n",
      "3 (5000, 5000)\n",
      "4 (5000, 5000)\n",
      "5 (5000, 5000)\n",
      "6 (5000, 5000)\n",
      "7 (5000, 5000)\n",
      "8 (5000, 5000)\n",
      "9 (5000, 5000)\n",
      "10 (5000, 5000)\n",
      "11 (5000, 5000)\n",
      "12 (5000, 5000)\n",
      "13 (5000, 5000)\n",
      "14 (5000, 5000)\n",
      "15 (5000, 5000)\n",
      "16 (5000, 5000)\n",
      "17 (5000, 5000)\n",
      "18 (5000, 5000)\n",
      "19 (5000, 5000)\n",
      "20 (5000, 5000)\n",
      "21 (5000, 5000)\n",
      "22 (5000, 5000)\n",
      "23 (5000, 5000)\n",
      "24 (5000, 5000)\n",
      "25 (5000, 5000)\n",
      "26 (5000, 5000)\n",
      "27 (5000, 5000)\n",
      "28 (5000, 5000)\n",
      "29 (5000, 5000)\n",
      "30 (5000, 5000)\n",
      "31 (5000, 5000)\n",
      "32 (5000, 5000)\n",
      "33 (5000, 5000)\n",
      "34 (5000, 5000)\n",
      "35 (5000, 5000)\n",
      "36 (5000, 5000)\n",
      "37 (5000, 5000)\n",
      "38 (5000, 5000)\n",
      "39 (5000, 5000)\n",
      "40 (5000, 5000)\n",
      "41 (5000, 5000)\n",
      "42 (5000, 5000)\n",
      "43 (5000, 5000)\n",
      "44 (5000, 5000)\n",
      "45 (5000, 5000)\n"
     ]
    },
    {
     "ename": "KeyboardInterrupt",
     "evalue": "",
     "output_type": "error",
     "traceback": [
      "\u001b[0;31m---------------------------------------------------------------------------\u001b[0m",
      "\u001b[0;31mKeyboardInterrupt\u001b[0m                         Traceback (most recent call last)",
      "Cell \u001b[0;32mIn[23], line 5\u001b[0m\n\u001b[1;32m      3\u001b[0m x \u001b[39m=\u001b[39m m1\u001b[39m.\u001b[39mdot(m2)\n\u001b[1;32m      4\u001b[0m \u001b[39mfor\u001b[39;00m i \u001b[39min\u001b[39;00m \u001b[39mrange\u001b[39m(\u001b[39m10000\u001b[39m):\n\u001b[0;32m----> 5\u001b[0m     x \u001b[39m=\u001b[39m m1\u001b[39m.\u001b[39mdot(x)\n\u001b[1;32m      6\u001b[0m     \u001b[39mprint\u001b[39m(i, x\u001b[39m.\u001b[39mshape)\n",
      "\u001b[0;31mKeyboardInterrupt\u001b[0m: "
     ]
    }
   ],
   "source": [
    "m1 = np.random.rand(5000,5000)\n",
    "m2 = np.random.rand(5000,5000)\n",
    "x = m1.dot(m2)\n",
    "for i in range(10000):\n",
    "    x = m1.dot(x)\n",
    "    print(i, x.shape)"
   ]
  },
  {
   "cell_type": "code",
   "execution_count": null,
   "metadata": {},
   "outputs": [],
   "source": []
  }
 ],
 "metadata": {
  "kernelspec": {
   "display_name": "Python 3",
   "language": "python",
   "name": "python3"
  },
  "language_info": {
   "codemirror_mode": {
    "name": "ipython",
    "version": 3
   },
   "file_extension": ".py",
   "mimetype": "text/x-python",
   "name": "python",
   "nbconvert_exporter": "python",
   "pygments_lexer": "ipython3",
   "version": "3.11.4"
  },
  "orig_nbformat": 4
 },
 "nbformat": 4,
 "nbformat_minor": 2
}
